{
 "cells": [
  {
   "cell_type": "markdown",
   "metadata": {},
   "source": [
    "# Title: Analyzing Taxi Ride Patterns and Weather Impact in Chicago"
   ]
  },
  {
   "cell_type": "markdown",
   "metadata": {},
   "source": [
    "\n",
    "### Introduction\n",
    "This project aims to analyze taxi ride data from Chicago to identify patterns and trends that can assist the ride-sharing company Zuber in planning strategies for its market entry. The study focuses on understanding passenger preferences, neighborhood activity, and the impact of weather conditions on ride durations. The findings will guide Zuber in tailoring marketing campaigns and operational strategies.\n",
    "\n",
    "The dataset includes:\n",
    "1. Taxi companies and the number of rides (Dataset: `taxi_df`).\n",
    "2. Average drop-offs by neighborhood (Dataset: `neighborhood_df`).\n",
    "3. Ride details such as start time, duration, and weather conditions (Dataset: `rides_df`).\n",
    "\n",
    "## Project Outline\n",
    "\n",
    "---\n",
    "\n",
    "### Step 1: Data Loading and Initial Inspection\n",
    "- Load the datasets: `taxi_df`, `neighborhood_df`, and `rides_df`.\n",
    "- Display the structure of the data and inspect column names, data types, and missing values.\n",
    "\n",
    "---\n",
    "\n",
    "### Step 2: Data Cleaning and Preparation\n",
    "- Rename columns to make them consistent and easier to use.\n",
    "- Convert columns to appropriate data types (e.g., `datetime` for timestamps).\n",
    "- Handle missing values appropriately.\n",
    "- For `rides_df`, categorize weather conditions as \"Bad\" or \"Good.\"\n",
    "\n",
    "---\n",
    "\n",
    "### Step 3: Exploratory Data Analysis (EDA)\n",
    "- **Taxi Companies (`taxi_df`)**: Analyze the number of rides by each company.\n",
    "- **Neighborhoods (`neighborhood_df`)**: Identify the top 10 neighborhoods with the highest average drop-offs.\n",
    "- **Visualization**:\n",
    "  - Plot the number of rides by taxi company.\n",
    "  - Plot the top 10 neighborhoods by average drop-offs.\n",
    "\n",
    "---\n",
    "\n",
    "### Step 4: Hypothesis Testing\n",
    "- **Hypothesis**: Test whether the average duration of rides from the Loop to O'Hare changes on rainy Saturdays.\n",
    "- Prepare the data by filtering rides in `rides_df` for Saturdays and categorizing them by weather condition.\n",
    "- Use a two-sample t-test to determine if there's a significant difference in ride durations between \"Good\" and \"Bad\" weather conditions.\n",
    "\n",
    "---\n",
    "\n",
    "### Step 5: Conclusion\n",
    "- Summarize key findings from the EDA and hypothesis testing.\n",
    "- Provide actionable insights to guide Zuber’s strategy for entering the Chicago market.\n",
    "\n",
    "---\n",
    "\n",
    "### Dataset Overview:\n",
    "1. **`taxi_df`**:\n",
    "   - **Columns**: `company_name` (object), `trips_amount` (int).\n",
    "   - Contains 64 rows with no missing values.\n",
    "\n",
    "2. **`neighborhood_df`**:\n",
    "   - **Columns**: `dropoff_location_name` (object), `average_trips` (float).\n",
    "   - Contains 94 rows with no missing values.\n",
    "\n",
    "3. **`rides_df`**:\n",
    "   - **Columns**: `start_ts` (object), `weather_conditions` (object), `duration_seconds` (float).\n",
    "   - Contains 1068 rows with no missing values.\n",
    "   - `start_ts` will need conversion to `datetime`.\n",
    "\n",
    "---\n",
    "\n",
    "### Next Steps:\n",
    "1. Clean and preprocess the data:\n",
    "   - Convert `start_ts` to `datetime`.\n",
    "   - Ensure consistency in column naming.\n",
    "   - Address any potential data type issues or anomalies."
   ]
  },
  {
   "cell_type": "markdown",
   "metadata": {},
   "source": [
    "## Step 1 \n",
    "### Load the data"
   ]
  },
  {
   "cell_type": "code",
   "execution_count": null,
   "metadata": {},
   "outputs": [],
   "source": [
    "import pandas as pd\n",
    "from matplotlib import pyplot as plt\n",
    "from scipy import stats as st"
   ]
  },
  {
   "cell_type": "code",
   "execution_count": null,
   "metadata": {},
   "outputs": [],
   "source": [
    "try:\n",
    "    taxi_df = pd.read_csv('moved_project_sql_result_01.csv')\n",
    "    neighborhood_df = pd.read_csv('moved_project_sql_result_04.csv')\n",
    "    rides_df = pd.read_csv('moved_project_sql_result_07.csv')\n",
    "except FileNotFoundError:\n",
    "    try:\n",
    "        taxi_df = pd.read_csv('/mnt/data/moved_project_sql_result_01.csv')\n",
    "        neighborhood_df = pd.read_csv('/mnt/data/moved_project_sql_result_04.csv')\n",
    "        rides_df = pd.read_csv('/mnt/data/moved_project_sql_result_07.csv')\n",
    "    except FileNotFoundError:\n",
    "        print(\"Files not found. Please ensure the file paths are correct or upload the files.\")\n"
   ]
  },
  {
   "cell_type": "code",
   "execution_count": null,
   "metadata": {},
   "outputs": [],
   "source": [
    "# Load the datasets \n",
    "taxi_df = pd.read_csv('moved_project_sql_result_01.csv')\n",
    "neighborhood_df = pd.read_csv('moved_project_sql_result_04.csv')\n",
    "rides_df = pd.read_csv('moved_project_sql_result_07.csv')\n",
    "\n",
    "# Convert 'start_ts' in rides_df to datetime and clean column names\n",
    "rides_df['start_ts'] = pd.to_datetime(rides_df['start_ts'])\n",
    "taxi_df.columns = taxi_df.columns.str.lower()\n",
    "neighborhood_df.columns = neighborhood_df.columns.str.lower()\n",
    "rides_df.columns = rides_df.columns.str.lower()\n",
    "\n",
    "print(rides_df.head())\n",
    "print(taxi_df.head())\n",
    "print(neighborhood_df.head())\n"
   ]
  },
  {
   "cell_type": "code",
   "execution_count": null,
   "metadata": {},
   "outputs": [],
   "source": [
    "rides_df.info()\n",
    "\n",
    "taxi_df.info()\n",
    "\n",
    "neighborhood_df.info()"
   ]
  },
  {
   "cell_type": "markdown",
   "metadata": {},
   "source": [
    "## Step 2\n",
    "### Data Cleaning"
   ]
  },
  {
   "cell_type": "code",
   "execution_count": null,
   "metadata": {},
   "outputs": [],
   "source": [
    "# Check for missing values in each dataset\n",
    "rides_missing = rides_df.isnull().sum()\n",
    "neighborhood_missing = neighborhood_df.isnull().sum()\n",
    "taxi_missing = taxi_df.isnull().sum()\n",
    "\n",
    "# Combine results into a summary DataFrame for better readability\n",
    "missing_values_summary = {\n",
    "    \"Dataset\": [\"rides_df\", \"neighborhood_df\", \"taxi_df\"],\n",
    "    \"Missing Values\": [rides_missing.sum(), neighborhood_missing.sum(), taxi_missing.sum()]\n",
    "}\n",
    "\n",
    "missing_summary_df = pd.DataFrame(missing_values_summary)\n",
    "missing_summary_df"
   ]
  },
  {
   "cell_type": "markdown",
   "metadata": {},
   "source": [
    "In these datasets we have no missing values so far to clean."
   ]
  },
  {
   "cell_type": "markdown",
   "metadata": {},
   "source": [
    "## Step 3\n",
    "### EDA"
   ]
  },
  {
   "cell_type": "code",
   "execution_count": null,
   "metadata": {},
   "outputs": [],
   "source": [
    "# Sort taxi_df by trips_amount in descending order\n",
    "sorted_taxi_df = taxi_df.sort_values(by=\"trips_amount\", ascending=False)\n",
    "\n",
    "# Plot the top 10 taxi companies by trips\n",
    "plt.figure(figsize=(10, 6))\n",
    "plt.bar(sorted_taxi_df[\"company_name\"], sorted_taxi_df[\"trips_amount\"], color=\"skyblue\")\n",
    "plt.xticks(rotation=90)\n",
    "plt.title(\"Number of Rides by Taxi Company (November 15-16, 2017)\")\n",
    "plt.xlabel(\"Taxi Company\")\n",
    "plt.ylabel(\"Number of Rides\")\n",
    "plt.tight_layout()\n",
    "plt.show()\n"
   ]
  },
  {
   "cell_type": "markdown",
   "metadata": {},
   "source": [
    "The bar chart above displays the number of rides for each taxi company from November 15–16, 2017. Flash Cab and Taxi Affiliation Services are among the top performers, indicating their dominance in the market."
   ]
  },
  {
   "cell_type": "code",
   "execution_count": null,
   "metadata": {},
   "outputs": [],
   "source": [
    "# Sort neighborhood_df by average_trips in descending order\n",
    "top_neighborhoods = neighborhood_df.sort_values(by=\"average_trips\", ascending=False).head(10)\n",
    "\n",
    "# Plot the top 10 neighborhoods by average drop-offs\n",
    "plt.figure(figsize=(10, 6))\n",
    "plt.bar(top_neighborhoods[\"dropoff_location_name\"], top_neighborhoods[\"average_trips\"], color=\"orange\")\n",
    "plt.xticks(rotation=45, ha=\"right\")\n",
    "plt.title(\"Top 10 Neighborhoods by Average Drop-offs (November 2017)\")\n",
    "plt.xlabel(\"Neighborhood\")\n",
    "plt.ylabel(\"Average Trips\")\n",
    "plt.tight_layout()\n",
    "plt.show()\n"
   ]
  },
  {
   "cell_type": "markdown",
   "metadata": {},
   "source": [
    "The bar chart highlights the top 10 neighborhoods with the highest average drop-offs during November 2017. The Loop and River North stand out as the most popular drop-off locations."
   ]
  },
  {
   "cell_type": "markdown",
   "metadata": {},
   "source": [
    "### **Summary of EDA Findings**\n",
    "\n",
    "#### **1. Taxi Companies (`taxi_df`)**\n",
    "- Flash Cab is the leading company, with **19,558 rides**, followed by Taxi Affiliation Services with **11,422 rides**.\n",
    "- A small number of companies dominate the market, indicating an opportunity for Zuber to analyze competitive strategies of these key players.\n",
    "\n",
    "#### **2. Neighborhoods (`neighborhood_df`)**\n",
    "- The top neighborhoods by average drop-offs include:\n",
    "  1. **Loop**: 10,727.47 average drop-offs.\n",
    "  2. **River North**: 9,523.67 average drop-offs.\n",
    "  3. **Streeterville**: 6,664.67 average drop-offs.\n",
    "- Central business districts like the Loop and River North dominate drop-offs, suggesting they are key areas of activity.\n",
    "\n",
    "#### **Visual Insights**\n",
    "- The taxi company distribution shows a clear disparity in the number of rides, with a few companies significantly outperforming others.\n",
    "- Neighborhood analysis confirms that commercial and downtown areas are the primary hubs for drop-offs.\n",
    "\n",
    "---\n",
    "\n",
    "### **Key Takeaways**\n",
    "1. **For Zuber**:\n",
    "   - Focus advertising and operational strategies around neighborhoods with high drop-off averages, such as the Loop and River North.\n",
    "   - Study the practices of dominant taxi companies like Flash Cab to design competitive offerings.\n",
    "\n",
    "2. **General Trends**:\n",
    "   - Central neighborhoods drive most of the demand.\n",
    "   - A few companies control the majority of the market, presenting both challenges and opportunities for market entry.\n",
    "\n",
    "---\n",
    "\n",
    "### Next Steps:\n",
    "We'll proceed to hypothesis testing to examine the impact of weather conditions on ride durations."
   ]
  },
  {
   "cell_type": "markdown",
   "metadata": {},
   "source": [
    "#### **Hypothesis**\n",
    "- **Null Hypothesis (\\(H_0\\))**: The average duration of rides from the Loop to O'Hare International Airport does not change on rainy Saturdays.\n",
    "- **Alternative Hypothesis (\\(H_1\\))**: The average duration of rides from the Loop to O'Hare International Airport changes on rainy Saturdays.\n",
    "\n",
    "\n"
   ]
  },
  {
   "cell_type": "code",
   "execution_count": null,
   "metadata": {},
   "outputs": [],
   "source": [
    "# Convert 'start_ts' to datetime\n",
    "rides_df['start_ts'] = pd.to_datetime(rides_df['start_ts'])\n",
    "\n",
    "# Filter rides for Saturdays in November\n",
    "rides_saturdays = rides_df[\n",
    "    (rides_df['start_ts'].dt.dayofweek == 5) &  # Saturday\n",
    "    (rides_df['start_ts'] >= \"2017-11-01\") &\n",
    "    (rides_df['start_ts'] <= \"2017-11-30\")\n",
    "]\n",
    "\n",
    "# Compare \"Good\" and \"Bad\" weather conditions for ride durations\n",
    "good_weather_durations = rides_saturdays[rides_saturdays['weather_conditions'] == 'Good']['duration_seconds']\n",
    "bad_weather_durations = rides_saturdays[rides_saturdays['weather_conditions'] == 'Bad']['duration_seconds']\n",
    "\n",
    "# Perform t-test using scipy.stats\n",
    "t_stat, p_value = st.ttest_ind(good_weather_durations, bad_weather_durations, equal_var=False)\n",
    "\n",
    "t_stat, p_value\n"
   ]
  },
  {
   "cell_type": "markdown",
   "metadata": {},
   "source": [
    "### **Hypothesis Testing Summary**\n",
    "\n",
    "---\n",
    "\n",
    "#### **Objective**\n",
    "To test whether weather conditions impact the average duration of taxi rides from the Loop to O'Hare International Airport on Saturdays in November 2017.\n",
    "\n",
    "---\n",
    "\n",
    "#### **Hypothesis**\n",
    "- **Null Hypothesis (\\(H_0\\))**: The average duration of rides from the Loop to O'Hare does not differ between \"Good\" and \"Bad\" weather conditions.\n",
    "- **Alternative Hypothesis (\\(H_1\\))**: The average duration of rides from the Loop to O'Hare differs between \"Good\" and \"Bad\" weather conditions.\n",
    "\n",
    "---\n",
    "\n",
    "#### **Statistical Test**\n",
    "- **Test Used**: Two-sample t-test (independent samples, unequal variance).\n",
    "- **Significance Level (\\(\\alpha\\))**: 0.05.\n",
    "\n",
    "---\n",
    "\n",
    "#### **Data Preparation**\n",
    "1. Filtered the dataset for rides:\n",
    "   - That started on Saturdays in November 2017.\n",
    "   - With valid weather conditions categorized as \"Good\" or \"Bad.\"\n",
    "\n",
    "2. Grouped ride durations by weather condition:\n",
    "   - \"Good\" Weather Group.\n",
    "   - \"Bad\" Weather Group.\n",
    "\n",
    "---\n",
    "\n",
    "#### **Results**\n",
    "- **t-statistic**: \\(-7.19\\)\n",
    "- **p-value**: \\(6.74 \\times 10^{-12}\\)\n",
    "\n",
    "---\n",
    "\n",
    "#### **Conclusion**\n",
    "- There is a statistically significant difference in average ride durations between \"Good\" and \"Bad\" weather conditions on Saturdays.\n",
    "- **Bad weather** is associated with **longer ride durations**, likely due to slower traffic or cautious driving during adverse weather conditions.\n",
    "\n",
    "---\n",
    "\n",
    "#### **Actionable Insights for Zuber**\n",
    "1. **Operational Planning**:\n",
    "   - Adjust estimated travel times during bad weather conditions to provide accurate expectations to passengers.\n",
    "   - Allocate additional resources (drivers, vehicles) to account for delays caused by bad weather.\n",
    "\n",
    "2. **Dynamic Pricing**:\n",
    "   - Consider implementing surge pricing during bad weather conditions to account for longer durations and operational challenges.\n",
    "\n",
    "3. **Marketing Strategy**:\n",
    "   - Promote Zuber as a reliable service during bad weather conditions to encourage customer trust and loyalty.\n"
   ]
  },
  {
   "cell_type": "markdown",
   "metadata": {},
   "source": [
    "### **Overall Conclusion**\n",
    "\n",
    "The analysis of Chicago taxi ride data highlights key trends and actionable insights for Zuber:\n",
    "\n",
    "1. **Market Leaders**:\n",
    "   - Flash Cab and Taxi Affiliation Services dominate the market with the highest ride counts. Zuber should analyze their strategies for effective competition.\n",
    "\n",
    "2. **Key Neighborhoods**:\n",
    "   - The Loop and River North are the most popular drop-off locations, indicating they are critical areas for targeted marketing and operations.\n",
    "\n",
    "3. **Weather Impact**:\n",
    "   - Bad weather significantly increases ride durations, likely due to traffic delays. Zuber should account for this in pricing, resource allocation, and customer communications.\n",
    "\n",
    "These findings provide a solid foundation for Zuber to design data-driven strategies for entering the Chicago market."
   ]
  }
 ],
 "metadata": {
  "kernelspec": {
   "display_name": "Python 3 (ipykernel)",
   "language": "python",
   "name": "python3"
  },
  "language_info": {
   "codemirror_mode": {
    "name": "ipython",
    "version": 3
   },
   "file_extension": ".py",
   "mimetype": "text/x-python",
   "name": "python",
   "nbconvert_exporter": "python",
   "pygments_lexer": "ipython3",
   "version": "3.9.19"
  },
  "toc": {
   "base_numbering": 1,
   "nav_menu": {},
   "number_sections": true,
   "sideBar": true,
   "skip_h1_title": true,
   "title_cell": "Table of Contents",
   "title_sidebar": "Contents",
   "toc_cell": false,
   "toc_position": {},
   "toc_section_display": true,
   "toc_window_display": false
  }
 },
 "nbformat": 4,
 "nbformat_minor": 2
}
