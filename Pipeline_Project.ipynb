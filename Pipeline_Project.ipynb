{
 "cells": [
  {
   "cell_type": "markdown",
   "metadata": {},
   "source": [
    "# Subscriber Plan Recommendation for Megaline\n",
    "\n",
    "## Introduction\n",
    "This project involves developing a machine learning model for the mobile carrier **Megaline**. The model will analyze the monthly behavior of subscribers and recommend one of the two modern plans: **Smart** or **Ultra**. The goal is to achieve the highest possible accuracy for this classification task, with a minimum threshold of **75%**.\n",
    "\n",
    "The dataset contains monthly user behavior data, including:\n",
    "- Number of calls\n",
    "- Total call duration in minutes\n",
    "- Number of text messages\n",
    "- Internet traffic used (MB)\n",
    "- Current plan (`is_ultra`: Ultra = 1, Smart = 0)\n",
    "\n",
    "The analysis will focus on:\n",
    "1. Exploring the data to understand user behavior patterns.\n",
    "2. Building and evaluating classification models to predict plan recommendations.\n",
    "3. Tuning hyperparameters to maximize accuracy.\n",
    "\n",
    "## Project Outline\n",
    "\n",
    "### Step 1: Data Loading and Initial Inspection\n",
    "- Load the dataset.\n",
    "- Inspect its structure, size, and any immediate anomalies.\n",
    "\n",
    "### Step 2: Data Splitting\n",
    "- Split the dataset into training, validation, and test sets.\n",
    "- Ensure stratification to maintain the distribution of the target variable across all subsets.\n",
    "\n",
    "### Step 3: Exploratory Data Analysis (EDA)\n",
    "- **Feature Distributions**: Examine the spread of numerical features (`calls`, `minutes`, `messages`, `mb_used`).\n",
    "- **Correlation Analysis**: Explore relationships between features and the target variable.\n",
    "- **Insights**: Highlight any trends or anomalies that may influence model performance.\n",
    "\n",
    "### Step 4: Model Development\n",
    "- **Baseline Models**: Train multiple models such as Logistic Regression, Decision Trees, and Random Forests.\n",
    "- **Hyperparameter Tuning**: Use grid search or similar techniques to optimize model parameters.\n",
    "- **Validation**: Evaluate models on the validation set to compare their performance.\n",
    "\n",
    "### Step 5: Model Evaluation\n",
    "- Evaluate the best-performing model on the test set.\n",
    "- Ensure that the model achieves at least 75% accuracy.\n",
    "\n",
    "### Step 6: Sanity Check\n",
    "- Perform a sanity check to verify that the model is not overfitting and generalizes well to unseen data.\n",
    "\n",
    "### Step 7: Conclusion\n",
    "- Summarize key findings and model performance.\n",
    "- Recommend next steps for Megaline's plan recommendation system.\n",
    "\n"
   ]
  },
  {
   "cell_type": "code",
   "execution_count": 1,
   "metadata": {},
   "outputs": [],
   "source": [
    "# Importing libraries\n",
    "import pandas as pd\n",
    "from sklearn.model_selection import train_test_split\n",
    "import matplotlib.pyplot as plt\n",
    "from sklearn.linear_model import LogisticRegression\n",
    "from sklearn.tree import DecisionTreeClassifier\n",
    "from sklearn.ensemble import RandomForestClassifier\n",
    "from sklearn.metrics import accuracy_score\n",
    "\n"
   ]
  },
  {
   "cell_type": "code",
   "execution_count": 2,
   "metadata": {},
   "outputs": [],
   "source": [
    "try:\n",
    "    df = pd.read_csv('users_behavior.csv')\n",
    "except FileNotFoundError:\n",
    "    try:\n",
    "        df = pd.read_csv('/datasets/users_behavior.csv')\n",
    "    except FileNotFoundError:\n",
    "        print(\"File not found. Please ensure the file path is correct or upload the file.\")\n"
   ]
  },
  {
   "cell_type": "code",
   "execution_count": 3,
   "metadata": {},
   "outputs": [
    {
     "name": "stdout",
     "output_type": "stream",
     "text": [
      "<class 'pandas.core.frame.DataFrame'>\n",
      "RangeIndex: 3214 entries, 0 to 3213\n",
      "Data columns (total 5 columns):\n",
      " #   Column    Non-Null Count  Dtype  \n",
      "---  ------    --------------  -----  \n",
      " 0   calls     3214 non-null   float64\n",
      " 1   minutes   3214 non-null   float64\n",
      " 2   messages  3214 non-null   float64\n",
      " 3   mb_used   3214 non-null   float64\n",
      " 4   is_ultra  3214 non-null   int64  \n",
      "dtypes: float64(4), int64(1)\n",
      "memory usage: 125.7 KB\n"
     ]
    },
    {
     "data": {
      "text/plain": [
       "calls       0\n",
       "minutes     0\n",
       "messages    0\n",
       "mb_used     0\n",
       "is_ultra    0\n",
       "dtype: int64"
      ]
     },
     "execution_count": 3,
     "metadata": {},
     "output_type": "execute_result"
    }
   ],
   "source": [
    "# Initial inspection of the dataset\n",
    "df.shape\n",
    "df.info()\n",
    "df.head()\n",
    "\n",
    "# Check for missing values\n",
    "missing_values = df.isnull().sum()\n",
    "\n",
    "missing_values\n"
   ]
  },
  {
   "cell_type": "markdown",
   "metadata": {},
   "source": [
    "# **Dataset Overview**\n",
    "# Initial Observations:\n",
    "- The dataset is clean with no missing values.\n",
    "- The features appear numeric and suitable for analysis without additional conversions.\n"
   ]
  },
  {
   "cell_type": "markdown",
   "metadata": {},
   "source": [
    "# Step 2\n",
    "\n",
    "- Data Splitting "
   ]
  },
  {
   "cell_type": "code",
   "execution_count": 4,
   "metadata": {},
   "outputs": [
    {
     "data": {
      "text/plain": [
       "({'Training Set': 1928, 'Validation Set': 643, 'Test Set': 643},\n",
       " {'Training Set': 0    0.693465\n",
       "  1    0.306535\n",
       "  Name: is_ultra, dtype: float64,\n",
       "  'Validation Set': 0    0.693624\n",
       "  1    0.306376\n",
       "  Name: is_ultra, dtype: float64,\n",
       "  'Test Set': 0    0.693624\n",
       "  1    0.306376\n",
       "  Name: is_ultra, dtype: float64,\n",
       "  'Full Dataset': 0    0.693528\n",
       "  1    0.306472\n",
       "  Name: is_ultra, dtype: float64})"
      ]
     },
     "execution_count": 4,
     "metadata": {},
     "output_type": "execute_result"
    }
   ],
   "source": [
    "# Define features and target\n",
    "X = df.drop(columns=['is_ultra'])\n",
    "y = df['is_ultra']\n",
    "\n",
    "# Split data into training, validation, and test sets\n",
    "X_train, X_temp, y_train, y_temp = train_test_split(X, y, test_size=0.4, random_state=42, stratify=y)\n",
    "X_valid, X_test, y_valid, y_test = train_test_split(X_temp, y_temp, test_size=0.5, random_state=42, stratify=y_temp)\n",
    "\n",
    "# Check the sizes of each split\n",
    "split_sizes = {\n",
    "    \"Training Set\": X_train.shape[0],\n",
    "    \"Validation Set\": X_valid.shape[0],\n",
    "    \"Test Set\": X_test.shape[0],\n",
    "}\n",
    "\n",
    "# Confirm stratification by comparing target distributions\n",
    "def calculate_proportions(y_set):\n",
    "    return y_set.value_counts(normalize=True)\n",
    "\n",
    "proportions = {\n",
    "    \"Training Set\": calculate_proportions(y_train),\n",
    "    \"Validation Set\": calculate_proportions(y_valid),\n",
    "    \"Test Set\": calculate_proportions(y_test),\n",
    "    \"Full Dataset\": calculate_proportions(y),\n",
    "}\n",
    "\n",
    "split_sizes, proportions\n"
   ]
  },
  {
   "cell_type": "markdown",
   "metadata": {},
   "source": [
    "\n",
    "\n",
    "# Split Overview:\n",
    "- **Training Set**: 1,928 samples (~60% of data).\n",
    "- **Validation Set**: 643 samples (~20% of data).\n",
    "- **Test Set**: 643 samples (~20% of data).\n",
    "\n",
    "# Stratification Check:\n",
    "The distribution of the target variable (`is_ultra`) is consistent across all splits:\n",
    "- **Training Set**: 69.35% Smart (`0`), 30.65% Ultra (`1`).\n",
    "- **Validation Set**: 69.36% Smart (`0`), 30.64% Ultra (`1`).\n",
    "- **Test Set**: 69.36% Smart (`0`), 30.64% Ultra (`1`).\n",
    "- **Full Dataset**: 69.35% Smart (`0`), 30.65% Ultra (`1`).\n"
   ]
  },
  {
   "cell_type": "markdown",
   "metadata": {},
   "source": [
    "# Step 3 \n",
    "- EDA"
   ]
  },
  {
   "cell_type": "code",
   "execution_count": 5,
   "metadata": {},
   "outputs": [
    {
     "data": {
      "image/png": "[encoded data removed]",
      "text/plain": [
       "<Figure size 1500x1000 with 4 Axes>"
      ]
     },
     "metadata": {},
     "output_type": "display_data"
    },
    {
     "data": {
      "text/plain": [
       "(             calls      minutes     messages       mb_used\n",
       " count  1928.000000  1928.000000  1928.000000   1928.000000\n",
       " mean     63.744813   444.381872    38.174274  17061.542178\n",
       " std      33.118714   234.341278    35.548409   7540.847417\n",
       " min       0.000000     0.000000     0.000000      0.000000\n",
       " 25%      41.000000   280.920000    10.000000  12272.205000\n",
       " 50%      63.000000   434.410000    30.000000  16833.945000\n",
       " 75%      83.000000   580.460000    56.000000  21237.597500\n",
       " max     203.000000  1566.450000   224.000000  49745.730000,\n",
       "              calls   minutes  messages   mb_used  is_ultra\n",
       " calls     1.000000  0.981385  0.206924  0.293031  0.214046\n",
       " minutes   0.981385  1.000000  0.200400  0.283058  0.214769\n",
       " messages  0.206924  0.200400  1.000000  0.207244  0.198663\n",
       " mb_used   0.293031  0.283058  0.207244  1.000000  0.169207\n",
       " is_ultra  0.214046  0.214769  0.198663  0.169207  1.000000)"
      ]
     },
     "execution_count": 5,
     "metadata": {},
     "output_type": "execute_result"
    }
   ],
   "source": [
    "\n",
    "\n",
    "# Step 1: Summary Statistics for the Training Set\n",
    "summary_stats = X_train.describe()\n",
    "\n",
    "# Step 2: Visualize Feature Distributions\n",
    "features = ['calls', 'minutes', 'messages', 'mb_used']\n",
    "plt.figure(figsize=(15, 10))\n",
    "for i, feature in enumerate(features, 1):\n",
    "    plt.subplot(2, 2, i)\n",
    "    plt.hist(X_train[feature], bins=30, edgecolor='black')\n",
    "    plt.title(f\"Distribution of {feature}\")\n",
    "    plt.xlabel(feature)\n",
    "    plt.ylabel('Frequency')\n",
    "plt.tight_layout()\n",
    "plt.show()\n",
    "\n",
    "# Step 3: Correlation Analysis\n",
    "training_data = X_train.copy()\n",
    "training_data['is_ultra'] = y_train\n",
    "correlation_matrix = training_data.corr()\n",
    "\n",
    "summary_stats, correlation_matrix\n"
   ]
  },
  {
   "cell_type": "markdown",
   "metadata": {},
   "source": [
    "\n",
    "\n",
    "# Step 3: EDA Overview\n",
    "# Feature Distributions:\n",
    "- **Calls and Minutes**: Both features exhibit a slightly skewed distribution with most users having moderate values.\n",
    "- **Messages**: Highly skewed, with many users sending few or no messages.\n",
    "- **MB Used**: A broad distribution, indicating diverse internet usage behaviors among users.\n",
    "\n",
    "- Weak positive correlations between features and the target variable (`is_ultra`), suggesting some predictive value.\n",
    "\n",
    "---\n",
    "\n",
    "# Observations:\n",
    "- **Calls, Minutes, and Messages** might provide moderate predictability.\n",
    "- **MB Used** shows relatively weaker correlation but could still contribute to the model.\n"
   ]
  },
  {
   "cell_type": "markdown",
   "metadata": {},
   "source": [
    "# Step 4 \n",
    "- Model Development "
   ]
  },
  {
   "cell_type": "code",
   "execution_count": 6,
   "metadata": {},
   "outputs": [
    {
     "data": {
      "text/plain": [
       "{'Logistic Regression': 0.7045101088646968,\n",
       " 'Decision Tree': 0.7465007776049767,\n",
       " 'Random Forest': 0.8009331259720062}"
      ]
     },
     "execution_count": 6,
     "metadata": {},
     "output_type": "execute_result"
    }
   ],
   "source": [
    "# Initialize models\n",
    "log_reg = LogisticRegression(random_state=42, max_iter=1000)\n",
    "decision_tree = DecisionTreeClassifier(random_state=42)\n",
    "random_forest = RandomForestClassifier(random_state=42)\n",
    "\n",
    "# Train and evaluate Logistic Regression\n",
    "log_reg.fit(X_train, y_train)\n",
    "log_reg_predictions = log_reg.predict(X_valid)\n",
    "log_reg_accuracy = accuracy_score(y_valid, log_reg_predictions)\n",
    "\n",
    "# Train and evaluate Decision Tree\n",
    "decision_tree.fit(X_train, y_train)\n",
    "decision_tree_predictions = decision_tree.predict(X_valid)\n",
    "decision_tree_accuracy = accuracy_score(y_valid, decision_tree_predictions)\n",
    "\n",
    "# Train and evaluate Random Forest\n",
    "random_forest.fit(X_train, y_train)\n",
    "random_forest_predictions = random_forest.predict(X_valid)\n",
    "random_forest_accuracy = accuracy_score(y_valid, random_forest_predictions)\n",
    "\n",
    "# Compile results\n",
    "model_accuracies = {\n",
    "    \"Logistic Regression\": log_reg_accuracy,\n",
    "    \"Decision Tree\": decision_tree_accuracy,\n",
    "    \"Random Forest\": random_forest_accuracy,\n",
    "}\n",
    "\n",
    "model_accuracies\n"
   ]
  },
  {
   "cell_type": "markdown",
   "metadata": {},
   "source": [
    "# Observations:\n",
    "- **Random Forest** performs the best, exceeding the 75% accuracy threshold on the validation set.\n",
    "- **Decision Tree** is close to the threshold and might improve with hyperparameter tuning.\n",
    "- **Logistic Regression** is below the threshold, indicating limited predictive power for this dataset.\n"
   ]
  },
  {
   "cell_type": "markdown",
   "metadata": {},
   "source": [
    "# Step 4.1 \n",
    "\n",
    "- Hyperparameter Tuning for Random Forest\n",
    " \n",
    " Optimize the Random Forest model by testing different combinations of hyperparameters using grid search. "
   ]
  },
  {
   "cell_type": "markdown",
   "metadata": {},
   "source": []
  },
  {
   "cell_type": "code",
   "execution_count": 7,
   "metadata": {},
   "outputs": [
    {
     "data": {
      "text/plain": [
       "{\"{'n_estimators': 50, 'max_depth': None, 'min_samples_split': 2}\": 0.80248833592535,\n",
       " \"{'n_estimators': 100, 'max_depth': 10, 'min_samples_split': 2}\": 0.8055987558320373,\n",
       " \"{'n_estimators': 100, 'max_depth': 20, 'min_samples_split': 5}\": 0.807153965785381,\n",
       " \"{'n_estimators': 50, 'max_depth': 10, 'min_samples_split': 5}\": 0.7947122861586314}"
      ]
     },
     "execution_count": 7,
     "metadata": {},
     "output_type": "execute_result"
    }
   ],
   "source": [
    "# Split data into training, validation, and test sets\n",
    "X_train, X_temp, y_train, y_temp = train_test_split(X, y, test_size=0.4, random_state=42, stratify=y)\n",
    "X_valid, X_test, y_valid, y_test = train_test_split(X_temp, y_temp, test_size=0.5, random_state=42, stratify=y_temp)\n",
    "\n",
    "# Define a few selected configurations for manual testing\n",
    "configurations = [\n",
    "    {\"n_estimators\": 50, \"max_depth\": None, \"min_samples_split\": 2},\n",
    "    {\"n_estimators\": 100, \"max_depth\": 10, \"min_samples_split\": 2},\n",
    "    {\"n_estimators\": 100, \"max_depth\": 20, \"min_samples_split\": 5},\n",
    "    {\"n_estimators\": 50, \"max_depth\": 10, \"min_samples_split\": 5},\n",
    "]\n",
    "\n",
    "# Dictionary to store results\n",
    "results = {}\n",
    "\n",
    "for config in configurations:\n",
    "    # Initialize and train the model with the given configuration\n",
    "    rf_model = RandomForestClassifier(\n",
    "        n_estimators=config[\"n_estimators\"],\n",
    "        max_depth=config[\"max_depth\"],\n",
    "        min_samples_split=config[\"min_samples_split\"],\n",
    "        random_state=42\n",
    "    )\n",
    "    rf_model.fit(X_train, y_train)\n",
    "    \n",
    "    # Evaluate on the validation set\n",
    "    predictions = rf_model.predict(X_valid)\n",
    "    accuracy = accuracy_score(y_valid, predictions)\n",
    "    \n",
    "    # Store results\n",
    "    results[str(config)] = accuracy\n",
    "\n",
    "results\n"
   ]
  },
  {
   "cell_type": "markdown",
   "metadata": {},
   "source": [
    "\n",
    "\n",
    "# Configurations Tested:\n",
    "1. **`n_estimators`: 50, `max_depth`: None, `min_samples_split`: 2**  \n",
    "   - Accuracy: **80.25%**\n",
    "2. **`n_estimators`: 100, `max_depth`: 10, `min_samples_split`: 2**  \n",
    "   - Accuracy: **80.56%**\n",
    "3. **`n_estimators`: 100, `max_depth`: 20, `min_samples_split`: 5**  \n",
    "   - Accuracy: **80.72%** *(Best Performance)*\n",
    "4. **`n_estimators`: 50, `max_depth`: 10, `min_samples_split`: 5**  \n",
    "   - Accuracy: **79.47%**\n",
    "\n",
    "# Best Configuration:\n",
    "- **`n_estimators`: 100, `max_depth`: 20, `min_samples_split`: 5**\n",
    "- Accuracy: **80.72%**"
   ]
  },
  {
   "cell_type": "markdown",
   "metadata": {},
   "source": [
    "# Step 5 \n",
    "\n",
    "Model Evalaution"
   ]
  },
  {
   "cell_type": "code",
   "execution_count": 8,
   "metadata": {},
   "outputs": [
    {
     "data": {
      "text/plain": [
       "0.7993779160186625"
      ]
     },
     "execution_count": 8,
     "metadata": {},
     "output_type": "execute_result"
    }
   ],
   "source": [
    "# Train the final model with the best configuration\n",
    "final_model = RandomForestClassifier(\n",
    "    n_estimators=100,\n",
    "    max_depth=20,\n",
    "    min_samples_split=5,\n",
    "    random_state=42\n",
    ")\n",
    "final_model.fit(X_train, y_train)\n",
    "\n",
    "# Evaluate on the test set\n",
    "test_predictions = final_model.predict(X_test)\n",
    "test_accuracy = accuracy_score(y_test, test_predictions)\n",
    "\n",
    "test_accuracy\n"
   ]
  },
  {
   "cell_type": "markdown",
   "metadata": {},
   "source": [
    "# Final Model Evaluation\n",
    "\n",
    "The Random Forest model, trained with the best configuration (**`n_estimators`: 100, `max_depth`: 20, `min_samples_split`: 5**), achieved an accuracy of:\n",
    "\n",
    "- **79.94%** on the test set.\n",
    "\n",
    "---\n",
    "\n",
    "# Observations:\n",
    "- The model surpasses the minimum required accuracy of **75%**.\n",
    "- It generalizes well, with test set accuracy close to validation set accuracy.\n"
   ]
  },
  {
   "cell_type": "markdown",
   "metadata": {},
   "source": [
    "# Step 6 \n",
    "\n",
    "- Sanity Check"
   ]
  },
  {
   "cell_type": "code",
   "execution_count": 9,
   "metadata": {},
   "outputs": [
    {
     "data": {
      "text/plain": [
       "0.6936236391912908"
      ]
     },
     "execution_count": 9,
     "metadata": {},
     "output_type": "execute_result"
    }
   ],
   "source": [
    "_, X_temp, _, y_temp = train_test_split(X, y, test_size=0.4, random_state=42, stratify=y)\n",
    "_, X_test, _, y_test = train_test_split(X_temp, y_temp, test_size=0.5, random_state=42, stratify=y_temp)\n",
    "\n",
    "# Baseline: Always predict the most frequent class\n",
    "most_frequent_class = y_temp.mode()[0]  # Most common target value in the training set\n",
    "baseline_predictions = [most_frequent_class] * len(y_test)\n",
    "\n",
    "# Evaluate baseline accuracy\n",
    "baseline_accuracy = accuracy_score(y_test, baseline_predictions)\n",
    "\n",
    "baseline_accuracy\n"
   ]
  },
  {
   "cell_type": "markdown",
   "metadata": {},
   "source": [
    "# **Overall Conclusion**\n",
    "\n",
    "# Subscriber Plan Recommendation for Megaline: Final Conclusion\n",
    "\n",
    "---\n",
    "\n",
    "# Introduction\n",
    "\n",
    "This project aimed to build a machine learning model to recommend one of two modern plans—**Smart** or **Ultra**—based on subscriber behavior. Using monthly data on calls, messages, and internet usage, the goal was to achieve an accuracy of at least **75%** for this classification task.\n",
    "\n",
    "---\n",
    "\n",
    "# Key Observations and Workflow\n",
    "\n",
    "# 1. Data Loading and Inspection\n",
    "- The dataset contained **3,214 rows** and **5 columns** (`calls`, `minutes`, `messages`, `mb_used`, `is_ultra`).\n",
    "- There were no missing values, and all features were numeric, making the dataset clean and ready for modeling.\n",
    "\n",
    "---\n",
    "\n",
    "# 2. Data Splitting\n",
    "- The data was split into:\n",
    "  - Training Set: 60% (1,928 rows).\n",
    "  - Validation Set: 20% (643 rows).\n",
    "  - Test Set: 20% (643 rows).\n",
    "- Stratification ensured consistent proportions of the target variable (`is_ultra`) across subsets.\n",
    "\n",
    "---\n",
    "\n",
    "# 3. Exploratory Data Analysis (EDA)\n",
    "- **Feature Insights**:\n",
    "  - Most users had moderate `calls` and `minutes` values, while internet usage (`mb_used`) varied widely.\n",
    "  - `messages` was highly skewed, with many users sending few or no messages.\n",
    "- **Correlations**:\n",
    "  - Weak but positive correlations were observed between features and `is_ultra`, indicating predictive potential.\n",
    "\n",
    "---\n",
    "\n",
    "# 4. Model Development and Evaluation\n",
    "- Models Tested:\n",
    "  - Logistic Regression: **70.45%** accuracy (Validation Set).\n",
    "  - Decision Tree: **74.65%** accuracy.\n",
    "  - Random Forest: **80.09%** accuracy.\n",
    "- Hyperparameter Tuning:\n",
    "  - Optimized Random Forest achieved **80.72%** accuracy (Validation Set) with:\n",
    "    - `n_estimators`: 100\n",
    "    - `max_depth`: 20\n",
    "    - `min_samples_split`: 5\n",
    "- Final Test Set Evaluation:\n",
    "  - The optimized Random Forest achieved **79.94%** accuracy on the test set, exceeding the required **75%** threshold.\n",
    "\n",
    "---\n",
    "\n",
    "# 5. Sanity Check\n",
    "- Baseline Accuracy:\n",
    "  - A baseline model predicting the most frequent class achieved **69.36%** accuracy.\n",
    "- Conclusion:\n",
    "  - The Random Forest model outperformed the baseline significantly, demonstrating its ability to learn meaningful patterns in the data.\n",
    "\n",
    "---\n",
    "\n",
    "# Final Thoughts and Recommendations\n",
    "\n",
    "1. Model Performance:\n",
    "   - The Random Forest model is highly effective for this task, achieving nearly **80% accuracy**.\n",
    "   - It generalizes well across unseen data, as indicated by the close alignment of validation and test accuracies.\n",
    "\n",
    "2. Business Recommendations:\n",
    "   - Megaline can confidently deploy this model to recommend plans to users based on their monthly behavior.\n",
    "   - Continuous monitoring and periodic re-training with new data are recommended to maintain accuracy."
   ]
  }
 ],
 "metadata": {
  "ExecuteTimeLog": [
   {
    "duration": 893,
    "start_time": "2024-11-28T13:31:57.361Z"
   },
   {
    "duration": 9,
    "start_time": "2024-11-28T13:31:58.256Z"
   },
   {
    "duration": 603,
    "start_time": "2024-11-28T13:31:58.266Z"
   },
   {
    "duration": 0,
    "start_time": "2024-11-28T13:31:58.871Z"
   },
   {
    "duration": 0,
    "start_time": "2024-11-28T13:31:58.872Z"
   },
   {
    "duration": 0,
    "start_time": "2024-11-28T13:31:58.873Z"
   },
   {
    "duration": 0,
    "start_time": "2024-11-28T13:31:58.874Z"
   },
   {
    "duration": 0,
    "start_time": "2024-11-28T13:31:58.875Z"
   },
   {
    "duration": 0,
    "start_time": "2024-11-28T13:31:58.876Z"
   },
   {
    "duration": 0,
    "start_time": "2024-11-28T13:31:58.877Z"
   },
   {
    "duration": 893,
    "start_time": "2024-11-28T13:33:20.355Z"
   },
   {
    "duration": 9,
    "start_time": "2024-11-28T13:33:21.250Z"
   },
   {
    "duration": 12,
    "start_time": "2024-11-28T13:33:21.261Z"
   },
   {
    "duration": 12,
    "start_time": "2024-11-28T13:33:21.276Z"
   },
   {
    "duration": 744,
    "start_time": "2024-11-28T13:33:21.290Z"
   },
   {
    "duration": 329,
    "start_time": "2024-11-28T13:33:22.036Z"
   },
   {
    "duration": 837,
    "start_time": "2024-11-28T13:33:22.367Z"
   },
   {
    "duration": 309,
    "start_time": "2024-11-28T13:33:23.209Z"
   },
   {
    "duration": 9,
    "start_time": "2024-11-28T13:33:23.520Z"
   }
  ],
  "kernelspec": {
   "display_name": "Python 3 (ipykernel)",
   "language": "python",
   "name": "python3"
  },
  "language_info": {
   "codemirror_mode": {
    "name": "ipython",
    "version": 3
   },
   "file_extension": ".py",
   "mimetype": "text/x-python",
   "name": "python",
   "nbconvert_exporter": "python",
   "pygments_lexer": "ipython3",
   "version": "3.9.19"
  },
  "toc": {
   "base_numbering": 1,
   "nav_menu": {},
   "number_sections": true,
   "sideBar": true,
   "skip_h1_title": true,
   "title_cell": "Table of Contents",
   "title_sidebar": "Contents",
   "toc_cell": false,
   "toc_position": {},
   "toc_section_display": true,
   "toc_window_display": false
  }
 },
 "nbformat": 4,
 "nbformat_minor": 2
}
