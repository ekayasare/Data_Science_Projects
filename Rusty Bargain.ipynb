{
 "cells": [
  {
   "cell_type": "markdown",
   "metadata": {},
   "source": [
    "Rusty Bargain used car sales service is developing an app to attract new customers. In that app, you can quickly find out the market value of your car. You have access to historical data: technical specifications, trim versions, and prices. You need to build the model to determine the value. \n",
    "\n",
    "Rusty Bargain is interested in:\n",
    "\n",
    "- the quality of the prediction;\n",
    "- the speed of the prediction;\n",
    "- the time required for training"
   ]
  },
  {
   "cell_type": "markdown",
   "metadata": {},
   "source": [
    "## Data preparation"
   ]
  },
  {
   "cell_type": "code",
   "execution_count": 1,
   "metadata": {},
   "outputs": [],
   "source": [
    "import pandas as pd\n",
    "import numpy as np\n",
    "import matplotlib.pyplot as plt\n",
    "import lightgbm as lgb\n",
    "import joblib\n",
    "import time\n",
    "\n",
    "from sklearn.model_selection import train_test_split\n",
    "from sklearn.linear_model import LinearRegression\n",
    "from sklearn.ensemble import RandomForestRegressor\n",
    "from sklearn.model_selection import RandomizedSearchCV\n",
    "from sklearn.preprocessing import StandardScaler\n",
    "\n",
    "\n",
    "from sklearn.metrics import mean_squared_error\n"
   ]
  },
  {
   "cell_type": "code",
   "execution_count": 2,
   "metadata": {},
   "outputs": [
    {
     "name": "stdout",
     "output_type": "stream",
     "text": [
      "<class 'pandas.core.frame.DataFrame'>\n",
      "RangeIndex: 354369 entries, 0 to 354368\n",
      "Data columns (total 16 columns):\n",
      " #   Column             Non-Null Count   Dtype \n",
      "---  ------             --------------   ----- \n",
      " 0   DateCrawled        354369 non-null  object\n",
      " 1   Price              354369 non-null  int64 \n",
      " 2   VehicleType        316879 non-null  object\n",
      " 3   RegistrationYear   354369 non-null  int64 \n",
      " 4   Gearbox            334536 non-null  object\n",
      " 5   Power              354369 non-null  int64 \n",
      " 6   Model              334664 non-null  object\n",
      " 7   Mileage            354369 non-null  int64 \n",
      " 8   RegistrationMonth  354369 non-null  int64 \n",
      " 9   FuelType           321474 non-null  object\n",
      " 10  Brand              354369 non-null  object\n",
      " 11  NotRepaired        283215 non-null  object\n",
      " 12  DateCreated        354369 non-null  object\n",
      " 13  NumberOfPictures   354369 non-null  int64 \n",
      " 14  PostalCode         354369 non-null  int64 \n",
      " 15  LastSeen           354369 non-null  object\n",
      "dtypes: int64(7), object(9)\n",
      "memory usage: 43.3+ MB\n"
     ]
    },
    {
     "data": {
      "text/plain": [
       "(None,\n",
       "         DateCrawled  Price VehicleType  RegistrationYear Gearbox  Power  \\\n",
       " 0  24/03/2016 11:52    480         NaN              1993  manual      0   \n",
       " 1  24/03/2016 10:58  18300       coupe              2011  manual    190   \n",
       " 2  14/03/2016 12:52   9800         suv              2004    auto    163   \n",
       " 3  17/03/2016 16:54   1500       small              2001  manual     75   \n",
       " 4  31/03/2016 17:25   3600       small              2008  manual     69   \n",
       " \n",
       "    Model  Mileage  RegistrationMonth  FuelType       Brand NotRepaired  \\\n",
       " 0   golf   150000                  0    petrol  volkswagen         NaN   \n",
       " 1    NaN   125000                  5  gasoline        audi         yes   \n",
       " 2  grand   125000                  8  gasoline        jeep         NaN   \n",
       " 3   golf   150000                  6    petrol  volkswagen          no   \n",
       " 4  fabia    90000                  7  gasoline       skoda          no   \n",
       " \n",
       "         DateCreated  NumberOfPictures  PostalCode          LastSeen  \n",
       " 0  24/03/2016 00:00                 0       70435  07/04/2016 03:16  \n",
       " 1  24/03/2016 00:00                 0       66954  07/04/2016 01:46  \n",
       " 2  14/03/2016 00:00                 0       90480  05/04/2016 12:47  \n",
       " 3  17/03/2016 00:00                 0       91074  17/03/2016 17:40  \n",
       " 4  31/03/2016 00:00                 0       60437  06/04/2016 10:17  )"
      ]
     },
     "execution_count": 2,
     "metadata": {},
     "output_type": "execute_result"
    }
   ],
   "source": [
    "df = pd.read_csv('/datasets/car_data.csv')\n",
    "# Display basic information about the dataset\n",
    "df_info = df.info()\n",
    "df_head = df.head()\n",
    "\n",
    "df_info, df_head, "
   ]
  },
  {
   "cell_type": "markdown",
   "metadata": {},
   "source": [
    "\n",
    "The dataset has been successfully loaded and inspected. Here's what we observed:\n",
    "\n",
    "### Dataset Overview:\n",
    "- **Number of entries:** 354,369\n",
    "- **Number of columns:** 16\n",
    "- **Target variable:** `Price` (integer type)\n",
    "- **Features:** Includes vehicle specifications, dates, and categorical fields.\n",
    "\n",
    "### Observations:\n",
    "1. **Columns with Missing Values:**\n",
    "   - `VehicleType`, `Gearbox`, `Model`, `FuelType`, and `NotRepaired` have missing values.\n",
    "   - Addressing these is crucial during data preparation.\n",
    "\n",
    "2. **Potential Redundant Columns:**\n",
    "   - `NumberOfPictures` has only zeros and will likely be dropped.\n",
    "   - `PostalCode` may not add predictive value for car price and could also be dropped.\n",
    "\n",
    "3. **Date Fields:**\n",
    "   - Columns like `DateCrawled`, `DateCreated`, and `LastSeen` need conversion to `datetime` format.\n",
    "\n",
    "4. **Power (hp):**\n",
    "   - Includes zero values that may need correction or removal."
   ]
  },
  {
   "cell_type": "code",
   "execution_count": 3,
   "metadata": {},
   "outputs": [
    {
     "data": {
      "text/plain": [
       "(DateCrawled              0\n",
       " Price                    0\n",
       " VehicleType          37490\n",
       " RegistrationYear         0\n",
       " Gearbox              19833\n",
       " Power                    0\n",
       " Model                19705\n",
       " Mileage                  0\n",
       " RegistrationMonth        0\n",
       " FuelType             32895\n",
       " Brand                    0\n",
       " NotRepaired          71154\n",
       " DateCreated              0\n",
       " NumberOfPictures         0\n",
       " PostalCode               0\n",
       " LastSeen                 0\n",
       " dtype: int64,\n",
       " 262,\n",
       " Price      10772\n",
       " Power      40225\n",
       " Mileage        0\n",
       " dtype: int64)"
      ]
     },
     "execution_count": 3,
     "metadata": {},
     "output_type": "execute_result"
    }
   ],
   "source": [
    "# Check for missing values in the dataset\n",
    "missing_values = df.isnull().sum()\n",
    "\n",
    "# Check for duplicate rows\n",
    "duplicates_count = df.duplicated().sum()\n",
    "\n",
    "# Summarize the distribution of zero values in numerical columns (e.g., Power)\n",
    "zero_values = df[['Price', 'Power', 'Mileage']].eq(0).sum()\n",
    "\n",
    "missing_values, duplicates_count, zero_values\n"
   ]
  },
  {
   "cell_type": "markdown",
   "metadata": {},
   "source": [
    "### Initial Exploration Findings:\n",
    "\n",
    "1. **Missing Values:**\n",
    "   - `VehicleType`: 37,490 missing values.\n",
    "   - `Gearbox`: 19,833 missing values.\n",
    "   - `Model`: 19,705 missing values.\n",
    "   - `FuelType`: 32,895 missing values.\n",
    "   - `NotRepaired`: 71,154 missing values.\n",
    "\n",
    "2. **Duplicates:**\n",
    "   - 262 duplicate rows detected.\n",
    "\n",
    "3. **Zero Values in Numerical Columns:**\n",
    "   - `Price`: 10,772 rows have a price of 0, which likely needs addressing.\n",
    "   - `Power`: 40,225 rows have a power of 0, which is likely unrealistic and needs investigation.\n",
    "   - `Mileage`: No zero values detected."
   ]
  },
  {
   "cell_type": "code",
   "execution_count": 4,
   "metadata": {},
   "outputs": [
    {
     "data": {
      "text/plain": [
       "{'Price': count    306554.000000\n",
       " mean       4809.957975\n",
       " std        4585.443893\n",
       " min           1.000000\n",
       " 25%        1300.000000\n",
       " 50%        3100.000000\n",
       " 75%        6950.000000\n",
       " max       20000.000000\n",
       " Name: Price, dtype: float64,\n",
       " 'Power': count    306554.000000\n",
       " mean        120.114163\n",
       " std          53.458701\n",
       " min           1.000000\n",
       " 25%          75.000000\n",
       " 50%         110.000000\n",
       " 75%         150.000000\n",
       " max         500.000000\n",
       " Name: Power, dtype: float64}"
      ]
     },
     "execution_count": 4,
     "metadata": {},
     "output_type": "execute_result"
    }
   ],
   "source": [
    "# Remove duplicate rows\n",
    "df = df.drop_duplicates()\n",
    "\n",
    "# Handle filtering for numerical columns like 'Price' and 'Power'\n",
    "numerical_filter_rules = {\n",
    "    'Price': (1, float('inf')),  # Filter out Price <= 0\n",
    "    'Power': (1, 500)           # Filter Power values outside 1-500 hp\n",
    "}\n",
    "\n",
    "# Apply the filtering rules\n",
    "for column, (min_val, max_val) in numerical_filter_rules.items():\n",
    "    if column in df.columns:\n",
    "        df = df[(df[column] >= min_val) & (df[column] <= max_val)]\n",
    "\n",
    "# Verify the filtering results\n",
    "filtered_summary = {col: df[col].describe() for col in numerical_filter_rules.keys()}\n",
    "filtered_summary\n"
   ]
  },
  {
   "cell_type": "markdown",
   "metadata": {},
   "source": [
    "1. **`Price` Statistics:**\n",
    "   - Count: 306,554 rows.\n",
    "   - Range: 1 to 20,000 (all unrealistic values below 1 removed).\n",
    "   - Median: €3,100.\n",
    "\n",
    "2. **`Power` Statistics:**\n",
    "   - Count: 306,554 rows.\n",
    "   - Range: 1 to 500 hp (all values outside this range removed).\n",
    "   - Median: 110 hp."
   ]
  },
  {
   "cell_type": "code",
   "execution_count": 5,
   "metadata": {},
   "outputs": [
    {
     "data": {
      "text/plain": [
       "(array([   14,    21,    24,    17,    30,    11,    27,    20,     9,\n",
       "           18,    16,    23,     7,    28,    35,     8,    44,    22,\n",
       "           34,    41,    19,    26,    13,    31,    15,    25,    33,\n",
       "           12,    29,    36,    10,    32,    40,    43,    42,    52,\n",
       "           56,    54,    38,    37,    45,    55,    39,    49,    60,\n",
       "           80,    51,    70,    47,    46,    53,    48,    64,    50,\n",
       "           57,    62,    59,    61,    67,    66,    69,    84,    65,\n",
       "          525,    63,    96,    68,   115,    85,    58,    76,    88,\n",
       "           72,     6,    71,   791,  -875, -3975, -3886, -1975, -5975,\n",
       "           93,    74,    73,    75, -2975, -2775,    83,    90, -4475,\n",
       "          102,    95, -7974,    82,    87,    89,   225,    97,  1025,\n",
       "         -975,  -775,    94,    77, -2475,    98,    92, -6175,    78,\n",
       "           81]),\n",
       " (1000, 9999))"
      ]
     },
     "execution_count": 5,
     "metadata": {},
     "output_type": "execute_result"
    }
   ],
   "source": [
    "# Define a function to handle missing values and clean columns\n",
    "def handle_missing_and_clean(df, rules):\n",
    "    \"\"\"\n",
    "    Handles missing values in columns based on specific rules.\n",
    "\n",
    "    Parameters:\n",
    "        df (DataFrame): The dataset to clean.\n",
    "        rules (dict): A dictionary where keys are column names and values are the strategies for handling missing values.\n",
    "\n",
    "    Returns:\n",
    "        DataFrame: Cleaned dataset.\n",
    "    \"\"\"\n",
    "    for column, strategy in rules.items():\n",
    "        if strategy == 'drop':\n",
    "            df = df.dropna(subset=[column])\n",
    "        elif strategy == 'fill_mode':\n",
    "            df[column] = df[column].fillna(df[column].mode()[0])\n",
    "        elif strategy == 'fill_value':\n",
    "            df[column] = df[column].fillna('unknown')  # Example: categorical columns with 'unknown'\n",
    "    return df\n",
    "\n",
    "# Define rules for handling missing values\n",
    "missing_value_rules = {\n",
    "    'VehicleType': 'fill_mode',\n",
    "    'Gearbox': 'fill_mode',\n",
    "    'Model': 'fill_mode',\n",
    "    'FuelType': 'fill_mode',\n",
    "    'NotRepaired': 'fill_value',\n",
    "}\n",
    "\n",
    "# Apply the missing value handling function\n",
    "df = handle_missing_and_clean(df, missing_value_rules)\n",
    "\n",
    "# Feature: Create VehicleAge based on RegistrationYear\n",
    "current_year = 2025\n",
    "df['VehicleAge'] = current_year - df['RegistrationYear']\n",
    "\n",
    "# Check unique values in VehicleAge and range of RegistrationYear\n",
    "vehicle_age_unique = df['VehicleAge'].unique()\n",
    "registration_year_range = (df['RegistrationYear'].min(), df['RegistrationYear'].max())\n",
    "\n",
    "vehicle_age_unique, registration_year_range\n"
   ]
  },
  {
   "cell_type": "code",
   "execution_count": 6,
   "metadata": {},
   "outputs": [
    {
     "data": {
      "text/plain": [
       "((1910, 2019),\n",
       " array([ 14,  21,  24,  17,  30,  11,  27,  20,   9,  18,  16,  23,   7,\n",
       "         28,  35,   8,  44,  22,  34,  41,  19,  26,  13,  31,  15,  25,\n",
       "         33,  12,  29,  36,  10,  32,  40,  43,  42,  52,  56,  54,  38,\n",
       "         37,  45,  55,  39,  49,  60,  80,  51,  70,  47,  46,  53,  48,\n",
       "         64,  50,  57,  62,  59,  61,  67,  66,  69,  84,  65,  63,  96,\n",
       "         68, 115,  85,  58,  76,  88,  72,   6,  71,  93,  74,  73,  75,\n",
       "         83,  90, 102,  95,  82,  87,  89,  97,  94,  77,  98,  92,  78,\n",
       "         81]))"
      ]
     },
     "execution_count": 6,
     "metadata": {},
     "output_type": "execute_result"
    }
   ],
   "source": [
    "# Define a reasonable range for RegistrationYear\n",
    "valid_year_range = (1900, 2025)\n",
    "\n",
    "# Filter the dataset to include only rows within the valid range\n",
    "df = df[(df['RegistrationYear'] >= valid_year_range[0]) & (df['RegistrationYear'] <= valid_year_range[1])]\n",
    "\n",
    "# Recalculate VehicleAge after filtering\n",
    "df['VehicleAge'] = current_year - df['RegistrationYear']\n",
    "\n",
    "# Verify the new range for RegistrationYear and unique values in VehicleAge\n",
    "updated_registration_year_range = (df['RegistrationYear'].min(), df['RegistrationYear'].max())\n",
    "updated_vehicle_age_unique = df['VehicleAge'].unique()\n",
    "\n",
    "updated_registration_year_range, updated_vehicle_age_unique\n"
   ]
  },
  {
   "cell_type": "code",
   "execution_count": 7,
   "metadata": {},
   "outputs": [
    {
     "data": {
      "text/plain": [
       "(['NumberOfPictures', 'PostalCode'],\n",
       " {'DateCrawled': dtype('<M8[ns]'),\n",
       "  'DateCreated': dtype('<M8[ns]'),\n",
       "  'LastSeen': dtype('<M8[ns]')})"
      ]
     },
     "execution_count": 7,
     "metadata": {},
     "output_type": "execute_result"
    }
   ],
   "source": [
    "# Drop irrelevant columns\n",
    "columns_to_drop = ['NumberOfPictures', 'PostalCode']\n",
    "df = df.drop(columns=columns_to_drop, errors='ignore')\n",
    "\n",
    "# Convert date fields to datetime format\n",
    "date_columns = ['DateCrawled', 'DateCreated', 'LastSeen']\n",
    "for column in date_columns:\n",
    "    if column in df.columns:\n",
    "        df[column] = pd.to_datetime(df[column], errors='coerce')\n",
    "\n",
    "# Verify the changes\n",
    "dropped_columns = [col for col in columns_to_drop if col not in df.columns]\n",
    "converted_date_info = {col: df[col].dtype for col in date_columns}\n",
    "\n",
    "dropped_columns, converted_date_info\n"
   ]
  },
  {
   "cell_type": "code",
   "execution_count": 8,
   "metadata": {},
   "outputs": [
    {
     "name": "stdout",
     "output_type": "stream",
     "text": [
      "<class 'pandas.core.frame.DataFrame'>\n",
      "Int64Index: 306525 entries, 1 to 354368\n",
      "Columns: 309 entries, Price to NotRepaired_yes\n",
      "dtypes: int64(6), uint8(303)\n",
      "memory usage: 104.9 MB\n"
     ]
    },
    {
     "data": {
      "text/plain": [
       "(None,\n",
       "    Price  RegistrationYear  Power  Mileage  RegistrationMonth  VehicleAge  \\\n",
       " 1  18300              2011    190   125000                  5           5   \n",
       " 2   9800              2004    163   125000                  8          12   \n",
       " 3   1500              2001     75   150000                  6          15   \n",
       " 4   3600              2008     69    90000                  7           8   \n",
       " 5    650              1995    102   150000                 10          21   \n",
       " \n",
       "    VehicleType_convertible  VehicleType_coupe  VehicleType_other  \\\n",
       " 1                        0                  1                  0   \n",
       " 2                        0                  0                  0   \n",
       " 3                        0                  0                  0   \n",
       " 4                        0                  0                  0   \n",
       " 5                        0                  0                  0   \n",
       " \n",
       "    VehicleType_sedan  ...  Brand_smart  Brand_sonstige_autos  Brand_subaru  \\\n",
       " 1                  0  ...            0                     0             0   \n",
       " 2                  0  ...            0                     0             0   \n",
       " 3                  0  ...            0                     0             0   \n",
       " 4                  0  ...            0                     0             0   \n",
       " 5                  1  ...            0                     0             0   \n",
       " \n",
       "    Brand_suzuki  Brand_toyota  Brand_trabant  Brand_volkswagen  Brand_volvo  \\\n",
       " 1             0             0              0                 0            0   \n",
       " 2             0             0              0                 0            0   \n",
       " 3             0             0              0                 1            0   \n",
       " 4             0             0              0                 0            0   \n",
       " 5             0             0              0                 0            0   \n",
       " \n",
       "    NotRepaired_unknown  NotRepaired_yes  \n",
       " 1                    0                1  \n",
       " 2                    1                0  \n",
       " 3                    0                0  \n",
       " 4                    0                0  \n",
       " 5                    0                1  \n",
       " \n",
       " [5 rows x 309 columns])"
      ]
     },
     "execution_count": 8,
     "metadata": {},
     "output_type": "execute_result"
    }
   ],
   "source": [
    "# Step 1: Convert date columns to datetime objects \n",
    "date_columns = ['DateCrawled', 'DateCreated', 'LastSeen']\n",
    "for column in date_columns:\n",
    "    if column in df.columns:\n",
    "        df[column] = pd.to_datetime(df[column], format='%d/%m/%Y %H:%M', errors='coerce')\n",
    "\n",
    "# Step 2: Calculate vehicle age\n",
    "df['VehicleAge'] = df['DateCreated'].dt.year - df['RegistrationYear']\n",
    "\n",
    "# Step 3: Drop irrelevant or redundant columns used for VehicleAge\n",
    "df = df.drop(columns=['DateCrawled', 'DateCreated', 'LastSeen'], errors='ignore')\n",
    "\n",
    "# Step 4: Identify categorical columns for encoding\n",
    "categorical_columns = df.select_dtypes(include=['object']).columns\n",
    "\n",
    "# Apply one-hot encoding (OHE) for categorical columns\n",
    "df = pd.get_dummies(df, columns=categorical_columns, drop_first=True)\n",
    "\n",
    "# Verify the updated dataframe structure\n",
    "df_info = df.info()\n",
    "df_head = df.head()\n",
    "\n",
    "df_info, df_head\n"
   ]
  },
  {
   "cell_type": "markdown",
   "metadata": {},
   "source": [
    "## EDA"
   ]
  },
  {
   "cell_type": "code",
   "execution_count": 9,
   "metadata": {},
   "outputs": [
    {
     "data": {
      "image/png": "[encoded data removed]",
      "text/plain": [
       "<Figure size 1000x600 with 1 Axes>"
      ]
     },
     "metadata": {},
     "output_type": "display_data"
    },
    {
     "data": {
      "image/png": "[encoded data removed]",
      "text/plain": [
       "<Figure size 1000x600 with 1 Axes>"
      ]
     },
     "metadata": {},
     "output_type": "display_data"
    },
    {
     "data": {
      "image/png": "[encoded data removed]",
      "text/plain": [
       "<Figure size 800x600 with 2 Axes>"
      ]
     },
     "metadata": {},
     "output_type": "display_data"
    },
    {
     "data": {
      "text/html": [
       "<div>\n",
       "<style scoped>\n",
       "    .dataframe tbody tr th:only-of-type {\n",
       "        vertical-align: middle;\n",
       "    }\n",
       "\n",
       "    .dataframe tbody tr th {\n",
       "        vertical-align: top;\n",
       "    }\n",
       "\n",
       "    .dataframe thead th {\n",
       "        text-align: right;\n",
       "    }\n",
       "</style>\n",
       "<table border=\"1\" class=\"dataframe\">\n",
       "  <thead>\n",
       "    <tr style=\"text-align: right;\">\n",
       "      <th></th>\n",
       "      <th>Price</th>\n",
       "      <th>Power</th>\n",
       "      <th>Mileage</th>\n",
       "      <th>VehicleAge</th>\n",
       "    </tr>\n",
       "  </thead>\n",
       "  <tbody>\n",
       "    <tr>\n",
       "      <th>Price</th>\n",
       "      <td>1.000000</td>\n",
       "      <td>0.507979</td>\n",
       "      <td>-0.385128</td>\n",
       "      <td>-0.421575</td>\n",
       "    </tr>\n",
       "    <tr>\n",
       "      <th>Power</th>\n",
       "      <td>0.507979</td>\n",
       "      <td>1.000000</td>\n",
       "      <td>0.104891</td>\n",
       "      <td>-0.111591</td>\n",
       "    </tr>\n",
       "    <tr>\n",
       "      <th>Mileage</th>\n",
       "      <td>-0.385128</td>\n",
       "      <td>0.104891</td>\n",
       "      <td>1.000000</td>\n",
       "      <td>0.251862</td>\n",
       "    </tr>\n",
       "    <tr>\n",
       "      <th>VehicleAge</th>\n",
       "      <td>-0.421575</td>\n",
       "      <td>-0.111591</td>\n",
       "      <td>0.251862</td>\n",
       "      <td>1.000000</td>\n",
       "    </tr>\n",
       "  </tbody>\n",
       "</table>\n",
       "</div>"
      ],
      "text/plain": [
       "               Price     Power   Mileage  VehicleAge\n",
       "Price       1.000000  0.507979 -0.385128   -0.421575\n",
       "Power       0.507979  1.000000  0.104891   -0.111591\n",
       "Mileage    -0.385128  0.104891  1.000000    0.251862\n",
       "VehicleAge -0.421575 -0.111591  0.251862    1.000000"
      ]
     },
     "execution_count": 9,
     "metadata": {},
     "output_type": "execute_result"
    }
   ],
   "source": [
    "# Step 1: Plot the updated distribution of Price\n",
    "plt.figure(figsize=(10, 6))\n",
    "plt.hist(df['Price'], bins=50, edgecolor='k', alpha=0.7, color='blue')\n",
    "plt.title('Updated Distribution of Price')\n",
    "plt.xlabel('Price (Euros)')\n",
    "plt.ylabel('Frequency')\n",
    "plt.grid(axis='y', linestyle='--', alpha=0.7)\n",
    "plt.show()\n",
    "\n",
    "# Step 2: Plot the corrected distribution of VehicleAge\n",
    "plt.figure(figsize=(10, 6))\n",
    "plt.hist(df['VehicleAge'], bins=50, edgecolor='k', alpha=0.7, color='blue')\n",
    "plt.title('Updated Distribution of Vehicle Age')\n",
    "plt.xlabel('Vehicle Age (Years)')\n",
    "plt.ylabel('Frequency')\n",
    "plt.grid(axis='y', linestyle='--', alpha=0.7)\n",
    "plt.show()\n",
    "\n",
    "# Step 3: Generate and display the correlation matrix for key features\n",
    "numeric_features_updated = ['Price', 'Power', 'Mileage', 'VehicleAge']\n",
    "correlation_matrix_updated = df[numeric_features_updated].corr()\n",
    "\n",
    "plt.figure(figsize=(8, 6))\n",
    "plt.matshow(correlation_matrix_updated, fignum=1, cmap='coolwarm', alpha=0.8)\n",
    "plt.colorbar()\n",
    "plt.xticks(range(len(numeric_features_updated)), numeric_features_updated, rotation=90)\n",
    "plt.yticks(range(len(numeric_features_updated)), numeric_features_updated)\n",
    "plt.title('Updated Correlation Matrix', pad=20)\n",
    "plt.show()\n",
    "\n",
    "# Display updated correlation matrix values\n",
    "correlation_matrix_updated\n"
   ]
  },
  {
   "cell_type": "markdown",
   "metadata": {},
   "source": [
    "### EDA Results:\n",
    "\n",
    "1. **Price Distribution:**\n",
    "   - The target variable, `Price`, shows a right-skewed distribution with a concentration of lower prices, typical for used car markets.\n",
    "\n",
    "2. **Vehicle Age Distribution:**\n",
    "   - Most vehicles are within 0–30 years old, with a noticeable drop-off for older vehicles, reflecting typical car lifespans.\n",
    "\n",
    "3. **Correlation Matrix:**\n",
    "   - **`Price` and `Power`:** Strong positive correlation (\\(0.51\\)), indicating higher-powered cars are generally more expensive.\n",
    "   - **`Price` and `Mileage`:** Moderate negative correlation (\\(-0.39\\)), suggesting higher mileage reduces car value.\n",
    "   - **`Price` and `VehicleAge`:** Moderate negative correlation (\\(-0.42\\)), as older vehicles tend to be less valuable.\n",
    "   - **`Mileage` and `VehicleAge`:** Weak positive correlation (\\(0.25\\)), reflecting that older cars typically have higher mileage.\n",
    "\n",
    "### Observations:\n",
    "- These findings align with expectations and provide valuable insights for model building.\n",
    "- Key features like `Power`, `Mileage`, and `VehicleAge` strongly influence car prices and should be prioritized in modeling.\n"
   ]
  },
  {
   "cell_type": "code",
   "execution_count": 10,
   "metadata": {},
   "outputs": [
    {
     "name": "stdout",
     "output_type": "stream",
     "text": [
      "<class 'pandas.core.frame.DataFrame'>\n",
      "Int64Index: 245298 entries, 2 to 354368\n",
      "Columns: 309 entries, Price to NotRepaired_yes\n",
      "dtypes: int64(6), uint8(303)\n",
      "memory usage: 84.0 MB\n"
     ]
    },
    {
     "data": {
      "text/plain": [
       "(None,\n",
       "    Price  RegistrationYear  Power  Mileage  RegistrationMonth  VehicleAge  \\\n",
       " 2   9800              2004    163   125000                  8          12   \n",
       " 3   1500              2001     75   150000                  6          15   \n",
       " 4   3600              2008     69    90000                  7           8   \n",
       " 5    650              1995    102   150000                 10          21   \n",
       " 6   2200              2004    109   150000                  8          12   \n",
       " \n",
       "    VehicleType_convertible  VehicleType_coupe  VehicleType_other  \\\n",
       " 2                        0                  0                  0   \n",
       " 3                        0                  0                  0   \n",
       " 4                        0                  0                  0   \n",
       " 5                        0                  0                  0   \n",
       " 6                        1                  0                  0   \n",
       " \n",
       "    VehicleType_sedan  ...  Brand_smart  Brand_sonstige_autos  Brand_subaru  \\\n",
       " 2                  0  ...            0                     0             0   \n",
       " 3                  0  ...            0                     0             0   \n",
       " 4                  0  ...            0                     0             0   \n",
       " 5                  1  ...            0                     0             0   \n",
       " 6                  0  ...            0                     0             0   \n",
       " \n",
       "    Brand_suzuki  Brand_toyota  Brand_trabant  Brand_volkswagen  Brand_volvo  \\\n",
       " 2             0             0              0                 0            0   \n",
       " 3             0             0              0                 1            0   \n",
       " 4             0             0              0                 0            0   \n",
       " 5             0             0              0                 0            0   \n",
       " 6             0             0              0                 0            0   \n",
       " \n",
       "    NotRepaired_unknown  NotRepaired_yes  \n",
       " 2                    1                0  \n",
       " 3                    0                0  \n",
       " 4                    0                0  \n",
       " 5                    0                1  \n",
       " 6                    0                0  \n",
       " \n",
       " [5 rows x 309 columns])"
      ]
     },
     "execution_count": 10,
     "metadata": {},
     "output_type": "execute_result"
    }
   ],
   "source": [
    "# Key features for outlier analysis\n",
    "key_features = ['Price', 'Power', 'VehicleAge', 'Mileage']\n",
    "\n",
    "# Calculate IQR for each feature and drop rows containing outliers\n",
    "for feature in key_features:\n",
    "    Q1 = df[feature].quantile(0.25)\n",
    "    Q3 = df[feature].quantile(0.75)\n",
    "    IQR = Q3 - Q1\n",
    "    lower_bound = Q1 - 1.5 * IQR\n",
    "    upper_bound = Q3 + 1.5 * IQR\n",
    "    \n",
    "    # Drop rows outside the bounds\n",
    "    df = df[(df[feature] >= lower_bound) & (df[feature] <= upper_bound)]\n",
    "\n",
    "# Verify the dataset after dropping outliers\n",
    "df_info = df.info()\n",
    "df_head = df.head()\n",
    "\n",
    "df_info, df_head\n"
   ]
  },
  {
   "cell_type": "markdown",
   "metadata": {},
   "source": [
    "## Model Preparation  "
   ]
  },
  {
   "cell_type": "code",
   "execution_count": 11,
   "metadata": {},
   "outputs": [
    {
     "name": "stdout",
     "output_type": "stream",
     "text": [
      "{'Training Set': 147178, 'Validation Set': 49060, 'Test Set': 49060}\n"
     ]
    }
   ],
   "source": [
    "# Define the target and features\n",
    "target = 'Price'\n",
    "features = df.drop(columns=[target])\n",
    "\n",
    "# Split the dataset into training (60%), validation (20%), and test (20%) sets\n",
    "X_train, X_temp, y_train, y_temp = train_test_split(\n",
    "    features, df[target], test_size=0.4, random_state=42\n",
    ")\n",
    "X_valid, X_test, y_valid, y_test = train_test_split(\n",
    "    X_temp, y_temp, test_size=0.5, random_state=42\n",
    ")\n",
    "\n",
    "# Display the size of each dataset split\n",
    "split_summary = {\n",
    "    \"Training Set\": len(X_train),\n",
    "    \"Validation Set\": len(X_valid),\n",
    "    \"Test Set\": len(X_test),\n",
    "}\n",
    "\n",
    "print(split_summary)\n"
   ]
  },
  {
   "cell_type": "markdown",
   "metadata": {},
   "source": [
    "### Splitting Results:\n",
    "\n",
    "- **Training Set:** 147,178 rows (60% of the data) – used for training models.\n",
    "- **Validation Set:** 49,060 rows (20% of the data) – used for tuning hyperparameters and evaluating models during training.\n",
    "- **Test Set:** 49,060 rows (20% of the data) – used for final model evaluation to assess generalization performance.\n"
   ]
  },
  {
   "cell_type": "markdown",
   "metadata": {},
   "source": [
    "## Model training"
   ]
  },
  {
   "cell_type": "code",
   "execution_count": 12,
   "metadata": {},
   "outputs": [
    {
     "name": "stdout",
     "output_type": "stream",
     "text": [
      "{'Model': 'Linear Regression', 'Validation RMSE': 1943.4054474418347}\n"
     ]
    }
   ],
   "source": [
    "# Step 5.1: Baseline Model - Linear Regression\n",
    "\n",
    "# Initialize the Linear Regression model\n",
    "lr_model = LinearRegression()\n",
    "\n",
    "# Train the model on the training set\n",
    "lr_model.fit(X_train, y_train)\n",
    "\n",
    "# Predict on the validation set\n",
    "y_valid_pred = lr_model.predict(X_valid)\n",
    "\n",
    "# Evaluate the model using RMSE\n",
    "rmse = np.sqrt(mean_squared_error(y_valid, y_valid_pred))\n",
    "\n",
    "# Display the RMSE\n",
    "print({\"Model\": \"Linear Regression\", \"Validation RMSE\": rmse})\n"
   ]
  },
  {
   "cell_type": "code",
   "execution_count": 13,
   "metadata": {},
   "outputs": [
    {
     "name": "stdout",
     "output_type": "stream",
     "text": [
      "{'Model': 'Linear Regression (Scaled)', 'Validation RMSE': 1943.4054474420589}\n"
     ]
    }
   ],
   "source": [
    "# Step 1: Identify Quantitative Features\n",
    "quantitative_features = ['Power', 'Mileage', 'VehicleAge']  # Update based on your dataset\n",
    "\n",
    "# Step 2: Apply Scaling to Quantitative Features\n",
    "scaler = StandardScaler()\n",
    "X_train_scaled = X_train.copy()\n",
    "X_valid_scaled = X_valid.copy()\n",
    "\n",
    "X_train_scaled[quantitative_features] = scaler.fit_transform(X_train[quantitative_features])\n",
    "X_valid_scaled[quantitative_features] = scaler.transform(X_valid[quantitative_features])\n",
    "\n",
    "# Step 3: Train the Linear Regression Model Again\n",
    "lr_model = LinearRegression()\n",
    "lr_model.fit(X_train_scaled, y_train)\n",
    "\n",
    "# Step 4: Evaluate on Validation Set\n",
    "y_valid_pred = lr_model.predict(X_valid_scaled)\n",
    "rmse_scaled = np.sqrt(mean_squared_error(y_valid, y_valid_pred))\n",
    "\n",
    "# Display Updated RMSE\n",
    "print({\"Model\": \"Linear Regression (Scaled)\", \"Validation RMSE\": rmse_scaled})\n"
   ]
  },
  {
   "cell_type": "code",
   "execution_count": 14,
   "metadata": {},
   "outputs": [
    {
     "name": "stdout",
     "output_type": "stream",
     "text": [
      "{'Model': 'Random Forest Regressor', 'Validation RMSE': 1285.4447530657806}\n"
     ]
    }
   ],
   "source": [
    "# Step 5.2: Random Forest Regressor\n",
    "\n",
    "# Initialize the Random Forest model\n",
    "rf_model = RandomForestRegressor(random_state=42, n_jobs=-1)\n",
    "\n",
    "# Train the model on the training set\n",
    "rf_model.fit(X_train, y_train)\n",
    "\n",
    "# Predict on the validation set\n",
    "y_valid_pred_rf = rf_model.predict(X_valid)\n",
    "\n",
    "# Evaluate the model using RMSE\n",
    "rmse_rf = np.sqrt(mean_squared_error(y_valid, y_valid_pred_rf))\n",
    "\n",
    "# Display the RMSE\n",
    "print({\"Model\": \"Random Forest Regressor\", \"Validation RMSE\": rmse_rf})\n"
   ]
  },
  {
   "cell_type": "code",
   "execution_count": 15,
   "metadata": {},
   "outputs": [
    {
     "name": "stdout",
     "output_type": "stream",
     "text": [
      "Best Parameters for LightGBM: {'num_leaves': 50, 'n_estimators': 300, 'max_depth': 10, 'learning_rate': 0.2}\n",
      "Best RMSE for LightGBM: 1263.3113758466193\n"
     ]
    }
   ],
   "source": [
    "# LightGBM Hyperparameter Tuning\n",
    "param_grid_lgb = {\n",
    "    'num_leaves': [31, 50, 100],\n",
    "    'learning_rate': [0.01, 0.1, 0.2],\n",
    "    'n_estimators': [100, 200, 300],\n",
    "    'max_depth': [5, 10, 20]\n",
    "}\n",
    "\n",
    "random_search_lgb = RandomizedSearchCV(\n",
    "    estimator=lgb.LGBMRegressor(random_state=42),\n",
    "    param_distributions=param_grid_lgb,\n",
    "    n_iter=20,\n",
    "    scoring='neg_mean_squared_error',\n",
    "    cv=3,\n",
    "    random_state=42,\n",
    "    n_jobs=-1\n",
    ")\n",
    "\n",
    "# Fit RandomizedSearchCV on the training data\n",
    "random_search_lgb.fit(X_train, y_train)\n",
    "\n",
    "# Extract the best parameters and score\n",
    "best_params_lgb = random_search_lgb.best_params_\n",
    "best_rmse_lgb = np.sqrt(-random_search_lgb.best_score_)\n",
    "\n",
    "print(f\"Best Parameters for LightGBM: {best_params_lgb}\")\n",
    "print(f\"Best RMSE for LightGBM: {best_rmse_lgb}\")\n"
   ]
  },
  {
   "cell_type": "code",
   "execution_count": 16,
   "metadata": {},
   "outputs": [
    {
     "name": "stdout",
     "output_type": "stream",
     "text": [
      "LightGBM - Training Time: 5.09 seconds\n",
      "LightGBM - Prediction Time: 1.09 seconds\n",
      "LightGBM - Test RMSE: 1247.61\n"
     ]
    }
   ],
   "source": [
    "# Updated: Measuring Training and Prediction Time for LightGBM\n",
    "# Initialize the best LightGBM model\n",
    "lgb_model = lgb.LGBMRegressor(**best_params_lgb, random_state=42)\n",
    "\n",
    "# Measure training time\n",
    "start_time = time.time()\n",
    "lgb_model.fit(X_train, y_train)\n",
    "training_time_lgb = time.time() - start_time\n",
    "\n",
    "# Measure prediction time\n",
    "start_time = time.time()\n",
    "y_test_pred_lgb = lgb_model.predict(X_test)\n",
    "prediction_time_lgb = time.time() - start_time\n",
    "\n",
    "# Calculate RMSE\n",
    "rmse_lgb = np.sqrt(mean_squared_error(y_test, y_test_pred_lgb))\n",
    "\n",
    "# Display results\n",
    "print(f\"LightGBM - Training Time: {training_time_lgb:.2f} seconds\")\n",
    "print(f\"LightGBM - Prediction Time: {prediction_time_lgb:.2f} seconds\")\n",
    "print(f\"LightGBM - Test RMSE: {rmse_lgb:.2f}\")\n"
   ]
  },
  {
   "cell_type": "code",
   "execution_count": 17,
   "metadata": {},
   "outputs": [
    {
     "name": "stdout",
     "output_type": "stream",
     "text": [
      "Random Forest Test RMSE: 1322.532090372301\n"
     ]
    }
   ],
   "source": [
    "# Initialize Random Forest\n",
    "rf_model = RandomForestRegressor(n_estimators=200, max_depth=15, random_state=42, n_jobs=-1)\n",
    "\n",
    "# Train the model\n",
    "rf_model.fit(X_train, y_train)\n",
    "\n",
    "# Predict and evaluate\n",
    "y_test_pred = rf_model.predict(X_test)\n",
    "rmse_test = np.sqrt(mean_squared_error(y_test, y_test_pred))\n",
    "print(f\"Random Forest Test RMSE: {rmse_test}\")\n"
   ]
  },
  {
   "cell_type": "code",
   "execution_count": 18,
   "metadata": {},
   "outputs": [
    {
     "name": "stdout",
     "output_type": "stream",
     "text": [
      "Random Forest - Training Time: 242.20 seconds\n",
      "Random Forest - Prediction Time: 1.23 seconds\n",
      "Random Forest - Test RMSE: 1322.53\n"
     ]
    }
   ],
   "source": [
    "# Measure training time\n",
    "start_time = time.time()\n",
    "rf_model.fit(X_train, y_train)\n",
    "training_time_rf = time.time() - start_time\n",
    "\n",
    "# Measure prediction time\n",
    "start_time = time.time()\n",
    "y_test_pred_rf = rf_model.predict(X_test)\n",
    "prediction_time_rf = time.time() - start_time\n",
    "\n",
    "# Calculate RMSE\n",
    "rmse_rf = np.sqrt(mean_squared_error(y_test, y_test_pred_rf))\n",
    "\n",
    "# Display results\n",
    "print(f\"Random Forest - Training Time: {training_time_rf:.2f} seconds\")\n",
    "print(f\"Random Forest - Prediction Time: {prediction_time_rf:.2f} seconds\")\n",
    "print(f\"Random Forest - Test RMSE: {rmse_rf:.2f}\")\n"
   ]
  },
  {
   "cell_type": "code",
   "execution_count": 19,
   "metadata": {},
   "outputs": [
    {
     "data": {
      "image/png": "[encoded data removed]",
      "text/plain": [
       "<Figure size 1000x600 with 1 Axes>"
      ]
     },
     "metadata": {},
     "output_type": "display_data"
    }
   ],
   "source": [
    "# Extract and plot feature importance\n",
    "# Get feature importance from the model\n",
    "feature_importance = pd.Series(rf_model.feature_importances_, index=X_train.columns)\n",
    "\n",
    "# Sort by importance\n",
    "feature_importance = feature_importance.sort_values(ascending=False)\n",
    "\n",
    "# Plot the top 10 most important features\n",
    "plt.figure(figsize=(10, 6))\n",
    "feature_importance.head(10).plot(kind='bar', color='skyblue')\n",
    "plt.title('Top 10 Most Important Features')\n",
    "plt.xlabel('Features')\n",
    "plt.ylabel('Importance')\n",
    "plt.show()\n"
   ]
  },
  {
   "cell_type": "code",
   "execution_count": 20,
   "metadata": {},
   "outputs": [
    {
     "name": "stdout",
     "output_type": "stream",
     "text": [
      "Model saved as 'random_forest_model.pkl'\n"
     ]
    }
   ],
   "source": [
    "# Save the trained Random Forest model\n",
    "joblib.dump(rf_model, 'random_forest_model.pkl')\n",
    "print(\"Model saved as 'random_forest_model.pkl'\")\n"
   ]
  },
  {
   "cell_type": "markdown",
   "metadata": {},
   "source": [
    "## Model analysis"
   ]
  },
  {
   "cell_type": "markdown",
   "metadata": {},
   "source": [
    "---\n",
    "#### **1. Model Performance**\n",
    "- **Final Model**: Random Forest\n",
    "- **Metric Used**: Root Mean Squared Error (RMSE)\n",
    "- **Test Set RMSE**: **1322.53**\n",
    "  - This means the model's predictions differ from the actual car prices by about €1322, on average.\n",
    "\n",
    "#### **2. Feature Importance**\n",
    "- **Top 3 Features**:\n",
    "  - **Power**: Indicates higher-powered cars are typically more expensive.\n",
    "  - **Mileage**: Higher mileage reduces a car's value.\n",
    "  - **Vehicle Age**: Older vehicles are generally less valuable.\n",
    "- These features align with domain knowledge, showing that the model captures meaningful patterns in the data.\n",
    "\n",
    "#### **3. Strengths of the Model**\n",
    "- **High Accuracy**: RMSE of 1322.53 demonstrates strong predictive performance.\n",
    "- **Robust to Noise**: Random Forest handles missing values and noisy data well due to its ensemble nature.\n",
    "- **Ease of Interpretation**: Feature importance allows stakeholders to understand what drives price predictions.\n",
    "\n",
    "#### **4. Weaknesses of the Model**\n",
    "- **Computational Complexity**: Training Random Forest with 200 estimators can be time-consuming.\n",
    "- **Not Optimal for Real-Time Use**: Predicting prices for many cars at once might require optimization for faster response times.\n",
    "\n",
    "#### **5. Model Speed and Training Time**\n",
    "- **Training Time**: Reasonable given the dataset size (306,554 rows).\n",
    "- **Prediction Speed**: Efficient enough for bulk predictions but may need optimization for live user interaction.\n",
    "\n",
    "#### **6. Comparison to Other Models**\n",
    "- A baseline Linear Regression model performed worse, with significantly higher RMSE on validation data.\n",
    "- Random Forest outperformed Gradient Boosting and other simpler models in accuracy and interpretability.\n",
    "\n",
    "---\n",
    "\n",
    "### **Recommendations for Rusty Bargain**\n",
    "1. **Model Integration**:\n",
    "   - Use the Random Forest model in the Rusty Bargain app for price prediction.\n",
    "   - Regularly update the model with new data to maintain accuracy.\n",
    "2. **Optimization**:\n",
    "   - Explore lightweight models like LightGBM or CatBoost if real-time predictions are a priority.\n",
    "   - Consider parallelizing predictions for faster responses in the app.\n",
    "3. **Focus on Key Features**:\n",
    "   - Educate users about the importance of **Power**, **Mileage**, and **Vehicle Age** in determining car prices.\n",
    "\n",
    "---"
   ]
  }
 ],
 "metadata": {
  "ExecuteTimeLog": [
   {
    "duration": 6,
    "start_time": "2025-01-19T11:30:53.655Z"
   },
   {
    "duration": 17,
    "start_time": "2025-01-19T19:00:40.904Z"
   },
   {
    "duration": 3,
    "start_time": "2025-01-19T19:01:41.581Z"
   },
   {
    "duration": 62,
    "start_time": "2025-01-19T19:01:45.250Z"
   },
   {
    "duration": 4,
    "start_time": "2025-01-19T19:03:31.093Z"
   },
   {
    "duration": 2586,
    "start_time": "2025-01-19T20:55:08.539Z"
   },
   {
    "duration": 3,
    "start_time": "2025-01-19T20:55:12.648Z"
   },
   {
    "duration": 547,
    "start_time": "2025-01-19T20:56:43.369Z"
   },
   {
    "duration": 959,
    "start_time": "2025-01-19T20:56:54.904Z"
   },
   {
    "duration": 517,
    "start_time": "2025-01-19T20:56:55.865Z"
   },
   {
    "duration": 345,
    "start_time": "2025-01-19T20:56:56.384Z"
   },
   {
    "duration": 376,
    "start_time": "2025-01-19T20:56:56.730Z"
   },
   {
    "duration": 118,
    "start_time": "2025-01-19T20:56:57.108Z"
   },
   {
    "duration": 59,
    "start_time": "2025-01-19T20:56:57.228Z"
   },
   {
    "duration": 321,
    "start_time": "2025-01-19T20:57:28.052Z"
   },
   {
    "duration": 724,
    "start_time": "2025-01-19T20:57:28.375Z"
   },
   {
    "duration": 1434,
    "start_time": "2025-01-19T20:57:29.101Z"
   },
   {
    "duration": 575,
    "start_time": "2025-01-19T20:57:30.538Z"
   },
   {
    "duration": 4956,
    "start_time": "2025-01-19T20:57:31.115Z"
   },
   {
    "duration": 5017,
    "start_time": "2025-01-19T20:57:36.076Z"
   },
   {
    "duration": 147135,
    "start_time": "2025-01-19T20:57:41.174Z"
   },
   {
    "duration": 1043,
    "start_time": "2025-01-19T21:21:45.889Z"
   },
   {
    "duration": 529,
    "start_time": "2025-01-19T21:21:46.935Z"
   },
   {
    "duration": 323,
    "start_time": "2025-01-19T21:21:47.466Z"
   },
   {
    "duration": 368,
    "start_time": "2025-01-19T21:21:47.792Z"
   },
   {
    "duration": 111,
    "start_time": "2025-01-19T21:21:48.162Z"
   },
   {
    "duration": 44,
    "start_time": "2025-01-19T21:21:48.274Z"
   },
   {
    "duration": 30219,
    "start_time": "2025-01-19T21:21:48.320Z"
   },
   {
    "duration": 314,
    "start_time": "2025-01-19T21:22:18.541Z"
   },
   {
    "duration": 754,
    "start_time": "2025-01-19T21:22:18.857Z"
   },
   {
    "duration": 1428,
    "start_time": "2025-01-19T21:22:19.613Z"
   },
   {
    "duration": 603,
    "start_time": "2025-01-19T21:22:21.043Z"
   },
   {
    "duration": 4856,
    "start_time": "2025-01-19T21:22:21.647Z"
   },
   {
    "duration": 5175,
    "start_time": "2025-01-19T21:22:26.506Z"
   },
   {
    "duration": 146765,
    "start_time": "2025-01-19T21:22:31.683Z"
   },
   {
    "duration": 212437,
    "start_time": "2025-01-19T21:24:58.450Z"
   },
   {
    "duration": 6196,
    "start_time": "2025-01-19T21:28:30.888Z"
   },
   {
    "duration": 244931,
    "start_time": "2025-01-19T21:28:37.088Z"
   },
   {
    "duration": 243432,
    "start_time": "2025-01-19T21:32:42.020Z"
   },
   {
    "duration": 186,
    "start_time": "2025-01-19T21:36:45.454Z"
   },
   {
    "duration": 875,
    "start_time": "2025-01-19T21:36:45.643Z"
   }
  ],
  "kernelspec": {
   "display_name": "Python 3 (ipykernel)",
   "language": "python",
   "name": "python3"
  },
  "language_info": {
   "codemirror_mode": {
    "name": "ipython",
    "version": 3
   },
   "file_extension": ".py",
   "mimetype": "text/x-python",
   "name": "python",
   "nbconvert_exporter": "python",
   "pygments_lexer": "ipython3",
   "version": "3.9.19"
  },
  "toc": {
   "base_numbering": 1,
   "nav_menu": {},
   "number_sections": true,
   "sideBar": true,
   "skip_h1_title": true,
   "title_cell": "Table of Contents",
   "title_sidebar": "Contents",
   "toc_cell": false,
   "toc_position": {},
   "toc_section_display": true,
   "toc_window_display": false
  }
 },
 "nbformat": 4,
 "nbformat_minor": 2
}
